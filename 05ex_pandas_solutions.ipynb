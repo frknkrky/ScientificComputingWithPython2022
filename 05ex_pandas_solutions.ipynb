{
 "cells": [
  {
   "cell_type": "markdown",
   "metadata": {},
   "source": [
    "1\\. **Pandas DataFrame**\n",
    "\n",
    "This exercise consists in analyzing a dataset containg timing information from a series of Time-to-Digital-Converters (TDC) implemented in a pair of FPGAs. Each measurement (i.e. each row of the input file) consists of a flag that specifies the type of message ('HEAD', which in this case is always 1), two addresses of the TDC providing the signal ('FPGA' and 'TDC_CHANNEL'), and the timing information ('ORBIT_CNT', 'BX_COUNTER', and 'TDC_MEAS'). Each TDC count corresponds to 25/30 ns, whereas a unit of BX_COUNTER corresponds to 25 ns, and the ORBIT_CNT is increased every `x` BX_COUNTER. This allows to store the time in a similar way to hours, minutes and seconds."
   ]
  },
  {
   "cell_type": "code",
   "execution_count": 6,
   "metadata": {},
   "outputs": [],
   "source": [
    "import pandas as pd\n",
    "import numpy as np \n",
    "import random"
   ]
  },
  {
   "cell_type": "markdown",
   "metadata": {},
   "source": [
    "1\\. Create a Pandas DataFrame reading N rows of the `data/data_000637.txt` dataset. Choose N to be smaller than or equal to the maximum number of rows and larger that 10k (check the documentation)."
   ]
  },
  {
   "cell_type": "code",
   "execution_count": 19,
   "metadata": {},
   "outputs": [
    {
     "name": "stdout",
     "output_type": "stream",
     "text": [
      "Number of coloumns:  377760\n"
     ]
    },
    {
     "data": {
      "text/html": [
       "<div>\n",
       "<style scoped>\n",
       "    .dataframe tbody tr th:only-of-type {\n",
       "        vertical-align: middle;\n",
       "    }\n",
       "\n",
       "    .dataframe tbody tr th {\n",
       "        vertical-align: top;\n",
       "    }\n",
       "\n",
       "    .dataframe thead th {\n",
       "        text-align: right;\n",
       "    }\n",
       "</style>\n",
       "<table border=\"1\" class=\"dataframe\">\n",
       "  <thead>\n",
       "    <tr style=\"text-align: right;\">\n",
       "      <th></th>\n",
       "      <th>HEAD</th>\n",
       "      <th>FPGA</th>\n",
       "      <th>TDC_CHANNEL</th>\n",
       "      <th>ORBIT_CNT</th>\n",
       "      <th>BX_COUNTER</th>\n",
       "      <th>TDC_MEAS</th>\n",
       "    </tr>\n",
       "  </thead>\n",
       "  <tbody>\n",
       "    <tr>\n",
       "      <th>0</th>\n",
       "      <td>1</td>\n",
       "      <td>0</td>\n",
       "      <td>123</td>\n",
       "      <td>3869200167</td>\n",
       "      <td>2374</td>\n",
       "      <td>26</td>\n",
       "    </tr>\n",
       "    <tr>\n",
       "      <th>1</th>\n",
       "      <td>1</td>\n",
       "      <td>0</td>\n",
       "      <td>124</td>\n",
       "      <td>3869200167</td>\n",
       "      <td>2374</td>\n",
       "      <td>27</td>\n",
       "    </tr>\n",
       "    <tr>\n",
       "      <th>2</th>\n",
       "      <td>1</td>\n",
       "      <td>0</td>\n",
       "      <td>63</td>\n",
       "      <td>3869200167</td>\n",
       "      <td>2553</td>\n",
       "      <td>28</td>\n",
       "    </tr>\n",
       "    <tr>\n",
       "      <th>3</th>\n",
       "      <td>1</td>\n",
       "      <td>0</td>\n",
       "      <td>64</td>\n",
       "      <td>3869200167</td>\n",
       "      <td>2558</td>\n",
       "      <td>19</td>\n",
       "    </tr>\n",
       "    <tr>\n",
       "      <th>4</th>\n",
       "      <td>1</td>\n",
       "      <td>0</td>\n",
       "      <td>64</td>\n",
       "      <td>3869200167</td>\n",
       "      <td>2760</td>\n",
       "      <td>25</td>\n",
       "    </tr>\n",
       "    <tr>\n",
       "      <th>...</th>\n",
       "      <td>...</td>\n",
       "      <td>...</td>\n",
       "      <td>...</td>\n",
       "      <td>...</td>\n",
       "      <td>...</td>\n",
       "      <td>...</td>\n",
       "    </tr>\n",
       "    <tr>\n",
       "      <th>377755</th>\n",
       "      <td>1</td>\n",
       "      <td>0</td>\n",
       "      <td>47</td>\n",
       "      <td>3869203961</td>\n",
       "      <td>3134</td>\n",
       "      <td>1</td>\n",
       "    </tr>\n",
       "    <tr>\n",
       "      <th>377756</th>\n",
       "      <td>1</td>\n",
       "      <td>0</td>\n",
       "      <td>62</td>\n",
       "      <td>3869203961</td>\n",
       "      <td>3137</td>\n",
       "      <td>17</td>\n",
       "    </tr>\n",
       "    <tr>\n",
       "      <th>377757</th>\n",
       "      <td>1</td>\n",
       "      <td>0</td>\n",
       "      <td>48</td>\n",
       "      <td>3869203961</td>\n",
       "      <td>3138</td>\n",
       "      <td>3</td>\n",
       "    </tr>\n",
       "    <tr>\n",
       "      <th>377758</th>\n",
       "      <td>1</td>\n",
       "      <td>0</td>\n",
       "      <td>139</td>\n",
       "      <td>3869203961</td>\n",
       "      <td>3147</td>\n",
       "      <td>0</td>\n",
       "    </tr>\n",
       "    <tr>\n",
       "      <th>377759</th>\n",
       "      <td>1</td>\n",
       "      <td>0</td>\n",
       "      <td>64</td>\n",
       "      <td>3869203961</td>\n",
       "      <td>3135</td>\n",
       "      <td>4</td>\n",
       "    </tr>\n",
       "  </tbody>\n",
       "</table>\n",
       "<p>377760 rows × 6 columns</p>\n",
       "</div>"
      ],
      "text/plain": [
       "        HEAD  FPGA  TDC_CHANNEL   ORBIT_CNT  BX_COUNTER  TDC_MEAS\n",
       "0          1     0          123  3869200167        2374        26\n",
       "1          1     0          124  3869200167        2374        27\n",
       "2          1     0           63  3869200167        2553        28\n",
       "3          1     0           64  3869200167        2558        19\n",
       "4          1     0           64  3869200167        2760        25\n",
       "...      ...   ...          ...         ...         ...       ...\n",
       "377755     1     0           47  3869203961        3134         1\n",
       "377756     1     0           62  3869203961        3137        17\n",
       "377757     1     0           48  3869203961        3138         3\n",
       "377758     1     0          139  3869203961        3147         0\n",
       "377759     1     0           64  3869203961        3135         4\n",
       "\n",
       "[377760 rows x 6 columns]"
      ]
     },
     "metadata": {},
     "output_type": "display_data"
    }
   ],
   "source": [
    "N = random.randint(10000, 1310720)\n",
    "print(\"Number of coloumns: \", N) # number of coloumns\n",
    "df = pd.read_csv('data/data_000637.txt', nrows = N)\n",
    "display(df)"
   ]
  },
  {
   "cell_type": "markdown",
   "metadata": {},
   "source": [
    "2\\. Estimate the number of BX in a ORBIT (the value `x`).\n",
    "\n",
    "*Hint*: check when the BX counter reaches the maximum value before being reset to 0."
   ]
  },
  {
   "cell_type": "code",
   "execution_count": 21,
   "metadata": {},
   "outputs": [
    {
     "name": "stdout",
     "output_type": "stream",
     "text": [
      "estimation number:  3564\n"
     ]
    }
   ],
   "source": [
    "max_bx = df['BX_COUNTER'].max() + 1\n",
    "print(\"estimation number: \", max_bx)"
   ]
  },
  {
   "cell_type": "markdown",
   "metadata": {},
   "source": [
    "3\\. Create a new column with the absolute time in ns (as a combination of the other three columns with timing information) since the beginning of the data acquisition, and convert the new column to a Time Series."
   ]
  },
  {
   "cell_type": "code",
   "execution_count": 24,
   "metadata": {},
   "outputs": [
    {
     "data": {
      "text/html": [
       "<div>\n",
       "<style scoped>\n",
       "    .dataframe tbody tr th:only-of-type {\n",
       "        vertical-align: middle;\n",
       "    }\n",
       "\n",
       "    .dataframe tbody tr th {\n",
       "        vertical-align: top;\n",
       "    }\n",
       "\n",
       "    .dataframe thead th {\n",
       "        text-align: right;\n",
       "    }\n",
       "</style>\n",
       "<table border=\"1\" class=\"dataframe\">\n",
       "  <thead>\n",
       "    <tr style=\"text-align: right;\">\n",
       "      <th></th>\n",
       "      <th>HEAD</th>\n",
       "      <th>FPGA</th>\n",
       "      <th>TDC_CHANNEL</th>\n",
       "      <th>ORBIT_CNT</th>\n",
       "      <th>BX_COUNTER</th>\n",
       "      <th>TDC_MEAS</th>\n",
       "      <th>NS_PASSED</th>\n",
       "    </tr>\n",
       "  </thead>\n",
       "  <tbody>\n",
       "    <tr>\n",
       "      <th>0</th>\n",
       "      <td>1</td>\n",
       "      <td>0</td>\n",
       "      <td>123</td>\n",
       "      <td>3869200167</td>\n",
       "      <td>2374</td>\n",
       "      <td>26</td>\n",
       "      <td>0.000000e+00</td>\n",
       "    </tr>\n",
       "    <tr>\n",
       "      <th>1</th>\n",
       "      <td>1</td>\n",
       "      <td>0</td>\n",
       "      <td>124</td>\n",
       "      <td>3869200167</td>\n",
       "      <td>2374</td>\n",
       "      <td>27</td>\n",
       "      <td>8.125000e-01</td>\n",
       "    </tr>\n",
       "    <tr>\n",
       "      <th>2</th>\n",
       "      <td>1</td>\n",
       "      <td>0</td>\n",
       "      <td>63</td>\n",
       "      <td>3869200167</td>\n",
       "      <td>2553</td>\n",
       "      <td>28</td>\n",
       "      <td>4.476625e+03</td>\n",
       "    </tr>\n",
       "    <tr>\n",
       "      <th>3</th>\n",
       "      <td>1</td>\n",
       "      <td>0</td>\n",
       "      <td>64</td>\n",
       "      <td>3869200167</td>\n",
       "      <td>2558</td>\n",
       "      <td>19</td>\n",
       "      <td>4.594125e+03</td>\n",
       "    </tr>\n",
       "    <tr>\n",
       "      <th>4</th>\n",
       "      <td>1</td>\n",
       "      <td>0</td>\n",
       "      <td>64</td>\n",
       "      <td>3869200167</td>\n",
       "      <td>2760</td>\n",
       "      <td>25</td>\n",
       "      <td>9.649125e+03</td>\n",
       "    </tr>\n",
       "    <tr>\n",
       "      <th>...</th>\n",
       "      <td>...</td>\n",
       "      <td>...</td>\n",
       "      <td>...</td>\n",
       "      <td>...</td>\n",
       "      <td>...</td>\n",
       "      <td>...</td>\n",
       "      <td>...</td>\n",
       "    </tr>\n",
       "    <tr>\n",
       "      <th>377755</th>\n",
       "      <td>1</td>\n",
       "      <td>0</td>\n",
       "      <td>47</td>\n",
       "      <td>3869203961</td>\n",
       "      <td>3134</td>\n",
       "      <td>1</td>\n",
       "      <td>3.380644e+08</td>\n",
       "    </tr>\n",
       "    <tr>\n",
       "      <th>377756</th>\n",
       "      <td>1</td>\n",
       "      <td>0</td>\n",
       "      <td>62</td>\n",
       "      <td>3869203961</td>\n",
       "      <td>3137</td>\n",
       "      <td>17</td>\n",
       "      <td>3.380645e+08</td>\n",
       "    </tr>\n",
       "    <tr>\n",
       "      <th>377757</th>\n",
       "      <td>1</td>\n",
       "      <td>0</td>\n",
       "      <td>48</td>\n",
       "      <td>3869203961</td>\n",
       "      <td>3138</td>\n",
       "      <td>3</td>\n",
       "      <td>3.380645e+08</td>\n",
       "    </tr>\n",
       "    <tr>\n",
       "      <th>377758</th>\n",
       "      <td>1</td>\n",
       "      <td>0</td>\n",
       "      <td>139</td>\n",
       "      <td>3869203961</td>\n",
       "      <td>3147</td>\n",
       "      <td>0</td>\n",
       "      <td>3.380647e+08</td>\n",
       "    </tr>\n",
       "    <tr>\n",
       "      <th>377759</th>\n",
       "      <td>1</td>\n",
       "      <td>0</td>\n",
       "      <td>64</td>\n",
       "      <td>3869203961</td>\n",
       "      <td>3135</td>\n",
       "      <td>4</td>\n",
       "      <td>3.380644e+08</td>\n",
       "    </tr>\n",
       "  </tbody>\n",
       "</table>\n",
       "<p>377760 rows × 7 columns</p>\n",
       "</div>"
      ],
      "text/plain": [
       "        HEAD  FPGA  TDC_CHANNEL   ORBIT_CNT  BX_COUNTER  TDC_MEAS  \\\n",
       "0          1     0          123  3869200167        2374        26   \n",
       "1          1     0          124  3869200167        2374        27   \n",
       "2          1     0           63  3869200167        2553        28   \n",
       "3          1     0           64  3869200167        2558        19   \n",
       "4          1     0           64  3869200167        2760        25   \n",
       "...      ...   ...          ...         ...         ...       ...   \n",
       "377755     1     0           47  3869203961        3134         1   \n",
       "377756     1     0           62  3869203961        3137        17   \n",
       "377757     1     0           48  3869203961        3138         3   \n",
       "377758     1     0          139  3869203961        3147         0   \n",
       "377759     1     0           64  3869203961        3135         4   \n",
       "\n",
       "           NS_PASSED  \n",
       "0       0.000000e+00  \n",
       "1       8.125000e-01  \n",
       "2       4.476625e+03  \n",
       "3       4.594125e+03  \n",
       "4       9.649125e+03  \n",
       "...              ...  \n",
       "377755  3.380644e+08  \n",
       "377756  3.380645e+08  \n",
       "377757  3.380645e+08  \n",
       "377758  3.380647e+08  \n",
       "377759  3.380644e+08  \n",
       "\n",
       "[377760 rows x 7 columns]"
      ]
     },
     "execution_count": 24,
     "metadata": {},
     "output_type": "execute_result"
    }
   ],
   "source": [
    "bx_with_max_orbit = df.loc[df['ORBIT_CNT'] == max(df[\"ORBIT_CNT\"])]\n",
    "bx_with_min_orbit = df.loc[df['ORBIT_CNT'] == min(df[\"ORBIT_CNT\"])]\n",
    "\n",
    "tdc_with_max_bx = bx_with_max_orbit.loc[bx_with_max_orbit['BX_COUNTER'] == max(bx_with_max_orbit[\"BX_COUNTER\"])]\n",
    "tdc_with_min_bx = bx_with_min_orbit.loc[bx_with_min_orbit['BX_COUNTER'] == min(bx_with_min_orbit[\"BX_COUNTER\"])]\n",
    "\n",
    "initial_ns = (min(df[\"ORBIT_CNT\"]) * max_bx + min(bx_with_min_orbit[\"BX_COUNTER\"])) * 25 + min(tdc_with_min_bx[\"TDC_MEAS\"]) * 25/30                                                                                                 \n",
    "df['NS_PASSED'] = ((df['ORBIT_CNT'] * max_bx + df['BX_COUNTER']) * 25 + df['TDC_MEAS'] * 25 / 30) - initial_ns\n",
    "df"
   ]
  },
  {
   "cell_type": "markdown",
   "metadata": {},
   "source": [
    "4\\. Find out the duration of the data taking in hours, minutes and seconds, by using the features of the Time Series. Perform this check reading the whole dataset."
   ]
  },
  {
   "cell_type": "code",
   "execution_count": 26,
   "metadata": {},
   "outputs": [
    {
     "name": "stdout",
     "output_type": "stream",
     "text": [
      "3794  orbit \n",
      "772  bx\n",
      "4  tdc\n",
      "0.3380647033333333  seconds\n"
     ]
    }
   ],
   "source": [
    "max_tdc = max(df[\"TDC_MEAS\"]) + 1\n",
    "\n",
    "dif_orbit = max(df[\"ORBIT_CNT\"]) - min(df[\"ORBIT_CNT\"])\n",
    "\n",
    "bx_with_max_orbit = df.loc[df['ORBIT_CNT'] == max(df[\"ORBIT_CNT\"])]\n",
    "bx_with_min_orbit = df.loc[df['ORBIT_CNT'] == min(df[\"ORBIT_CNT\"])]\n",
    "\n",
    "dif_bx = max(bx_with_max_orbit[\"BX_COUNTER\"]) - min(bx_with_min_orbit[\"BX_COUNTER\"])\n",
    "\n",
    "tdc_with_max_bx = bx_with_max_orbit.loc[bx_with_max_orbit['BX_COUNTER'] == max(bx_with_max_orbit[\"BX_COUNTER\"])]\n",
    "tdc_with_min_bx = bx_with_min_orbit.loc[bx_with_min_orbit['BX_COUNTER'] == min(bx_with_min_orbit[\"BX_COUNTER\"])]\n",
    "\n",
    "dif_tdc = max(tdc_with_max_bx[\"TDC_MEAS\"]) - min(tdc_with_min_bx[\"TDC_MEAS\"])\n",
    "\n",
    "if(dif_tdc < 0):\n",
    "    dif_bx = dif_bx - 1\n",
    "    dif_tdc = dif_tdc + max_tdc\n",
    "\n",
    "print(dif_orbit, \" orbit \")\n",
    "print(dif_bx, \" bx\")\n",
    "print(dif_tdc, \" tdc\")\n",
    "\n",
    "print(((dif_orbit*max_bx)+dif_bx)*25*1e-9 + dif_tdc * 25/30*1e-9, \" seconds\")"
   ]
  },
  {
   "cell_type": "markdown",
   "metadata": {},
   "source": [
    "5\\. Use the `.groupby()` method to find out the noisy channels, i.e. the TDC channels with most counts (print to screen the top 3 and the corresponding counts)"
   ]
  },
  {
   "cell_type": "code",
   "execution_count": 27,
   "metadata": {},
   "outputs": [
    {
     "data": {
      "text/plain": [
       "TDC_CHANNEL\n",
       "139    31418\n",
       "64     18861\n",
       "63     18432\n",
       "dtype: int64"
      ]
     },
     "execution_count": 27,
     "metadata": {},
     "output_type": "execute_result"
    }
   ],
   "source": [
    "noisy_channels = df.groupby(by=[\"TDC_CHANNEL\"]).size().sort_values(ascending = False).head(3)\n",
    "noisy_channels"
   ]
  },
  {
   "cell_type": "markdown",
   "metadata": {},
   "source": [
    "6\\. Count the number of non-empty orbits (i.e. the number of orbits with at least one hit)."
   ]
  },
  {
   "cell_type": "code",
   "execution_count": 30,
   "metadata": {},
   "outputs": [
    {
     "name": "stdout",
     "output_type": "stream",
     "text": [
      "Number of non-empty orbits:  3792\n"
     ]
    }
   ],
   "source": [
    "non_empty_orbits = df.groupby('ORBIT_CNT')\n",
    "print(\"Number of non-empty orbits: \", len(non_empty_orbits))"
   ]
  },
  {
   "cell_type": "markdown",
   "metadata": {},
   "source": [
    "7\\. Count the number of unique orbits with at least one measurement from TDC_CHANNEL=139."
   ]
  },
  {
   "cell_type": "code",
   "execution_count": 31,
   "metadata": {},
   "outputs": [
    {
     "name": "stdout",
     "output_type": "stream",
     "text": [
      "Number of unique orbits where TDC_CHANNEL is equal to 139:  3783\n"
     ]
    }
   ],
   "source": [
    "tdc_channel_139 = df[df['TDC_CHANNEL'] == 139].groupby('ORBIT_CNT')\n",
    "print(\"Number of unique orbits where TDC_CHANNEL is equal to 139: \", len(tdc_channel_139))"
   ]
  },
  {
   "cell_type": "markdown",
   "metadata": {},
   "source": [
    "8\\. Create two Series (one for each FPGA) that have the TDC channel as index, and the number of counts for the corresponding TDC channel as values."
   ]
  },
  {
   "cell_type": "code",
   "execution_count": 33,
   "metadata": {},
   "outputs": [
    {
     "name": "stdout",
     "output_type": "stream",
     "text": [
      "     TDC_CHANNEL  COUNT\n",
      "0              1    343\n",
      "1              2    452\n",
      "2              3    445\n",
      "3              4    651\n",
      "4              5    430\n",
      "..           ...    ...\n",
      "118          129      2\n",
      "119          130     11\n",
      "120          137      8\n",
      "121          138      8\n",
      "122          139  22042\n",
      "\n",
      "[123 rows x 2 columns]\n",
      "     TDC_CHANNEL  COUNT\n",
      "0              1   8130\n",
      "1              2   9370\n",
      "2              3   6338\n",
      "3              4   7556\n",
      "4              5   4247\n",
      "..           ...    ...\n",
      "127          129      9\n",
      "128          130     11\n",
      "129          137     10\n",
      "130          138     10\n",
      "131          139   9376\n",
      "\n",
      "[132 rows x 2 columns]\n"
     ]
    }
   ],
   "source": [
    "fpga_0 = df[df['FPGA']== 0].groupby('TDC_CHANNEL').size().reset_index(name='COUNT')\n",
    "print(fpga_0)\n",
    "fpga_1 = df[df['FPGA']== 1].groupby('TDC_CHANNEL').size().reset_index(name='COUNT')\n",
    "print(fpga_1)"
   ]
  },
  {
   "cell_type": "markdown",
   "metadata": {},
   "source": [
    "9\\. **Optional:** Create two histograms (one for each FPGA) that show the number of counts for each TDC channel."
   ]
  },
  {
   "cell_type": "code",
   "execution_count": null,
   "metadata": {},
   "outputs": [],
   "source": []
  }
 ],
 "metadata": {
  "kernelspec": {
   "display_name": "Python 3 (ipykernel)",
   "language": "python",
   "name": "python3"
  },
  "language_info": {
   "codemirror_mode": {
    "name": "ipython",
    "version": 3
   },
   "file_extension": ".py",
   "mimetype": "text/x-python",
   "name": "python",
   "nbconvert_exporter": "python",
   "pygments_lexer": "ipython3",
   "version": "3.9.13"
  }
 },
 "nbformat": 4,
 "nbformat_minor": 4
}
